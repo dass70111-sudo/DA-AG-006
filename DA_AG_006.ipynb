{
  "nbformat": 4,
  "nbformat_minor": 0,
  "metadata": {
    "colab": {
      "provenance": []
    },
    "kernelspec": {
      "name": "python3",
      "display_name": "Python 3"
    },
    "language_info": {
      "name": "python"
    }
  },
  "cells": [
    {
      "cell_type": "code",
      "execution_count": 2,
      "metadata": {
        "colab": {
          "base_uri": "https://localhost:8080/"
        },
        "id": "mhg6QAHpVK-X",
        "outputId": "3e77f377-eaad-4014-cc53-61c5223de141"
      },
      "outputs": [
        {
          "output_type": "stream",
          "name": "stdout",
          "text": [
            "Sample Mean: 248.25\n",
            "Sample Standard Deviation: 17.27\n",
            "95% Confidence Interval: (240.17, 256.33)\n"
          ]
        }
      ],
      "source": [
        "import numpy as np\n",
        "from scipy import stats\n",
        "\n",
        "# Daily sales data\n",
        "daily_sales = [220, 245, 210, 265, 230, 250, 260, 275, 240, 255,\n",
        "               235, 260, 245, 250, 225, 270, 265, 255, 250, 260]\n",
        "\n",
        "# Convert to NumPy array\n",
        "data = np.array(daily_sales)\n",
        "\n",
        "# Compute sample statistics\n",
        "mean = np.mean(data)\n",
        "std_dev = np.std(data, ddof=1)  # sample standard deviation\n",
        "n = len(data)\n",
        "\n",
        "# Compute 95% confidence interval using the t-distribution\n",
        "confidence_level = 0.95\n",
        "alpha = 1 - confidence_level\n",
        "t_critical = stats.t.ppf(1 - alpha/2, df=n-1)\n",
        "\n",
        "# Margin of error\n",
        "margin_of_error = t_critical * (std_dev / np.sqrt(n))\n",
        "\n",
        "# Confidence interval\n",
        "lower_bound = mean - margin_of_error\n",
        "upper_bound = mean + margin_of_error\n",
        "\n",
        "# Display results\n",
        "print(f\"Sample Mean: {mean:.2f}\")\n",
        "print(f\"Sample Standard Deviation: {std_dev:.2f}\")\n",
        "print(f\"95% Confidence Interval: ({lower_bound:.2f}, {upper_bound:.2f})\")\n"
      ]
    }
  ]
}